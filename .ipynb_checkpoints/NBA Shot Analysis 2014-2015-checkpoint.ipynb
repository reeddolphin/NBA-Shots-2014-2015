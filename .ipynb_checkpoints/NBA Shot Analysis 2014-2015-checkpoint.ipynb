{
 "cells": [
  {
   "cell_type": "markdown",
   "metadata": {},
   "source": [
    "NBA Shots 2014-2015 season"
   ]
  },
  {
   "cell_type": "code",
   "execution_count": 1,
   "metadata": {},
   "outputs": [
    {
     "name": "stdout",
     "output_type": "stream",
     "text": [
      "Populating the interactive namespace from numpy and matplotlib\n"
     ]
    }
   ],
   "source": [
    "from pandas import Series, DataFrame\n",
    "import pandas as pd\n",
    "%pylab inline\n"
   ]
  },
  {
   "cell_type": "code",
   "execution_count": 2,
   "metadata": {},
   "outputs": [],
   "source": [
    "df = pd.read_csv(\"shot_logs.csv\", dtype=unicode)\n"
   ]
  },
  {
   "cell_type": "code",
   "execution_count": null,
   "metadata": {},
   "outputs": [],
   "source": [
    "#if shot clock is null, that means there was less than 24 second left in the quarter. Do we want to convert the time left on the game clock to time on the shot clock?\n",
    "#rename column w to win/lose\n",
    "#split matchup into three columns, one for date, home team, away team\n",
    "#\n",
    "def data_split(x):\n",
    "    (a,b)=x.split('-')\n",
    "    a=a.strip()\n",
    "    return a\n",
    "def home_team_split(x):\n",
    "    (a,b) = x.split('-')\n",
    "    if '@' in b:\n",
    "        (b1, b2) = b.split('@')\n",
    "    if 'vs.' in b:\n",
    "        (b2, b1) = b.split('vs.')\n",
    "    b2 = b2.strip()\n",
    "    return(b2)\n",
    "\n",
    "def away_team_split(x):\n",
    "    (a,b) = x.split('-')\n",
    "    if '@' in b:\n",
    "        (b2, b1) = b.split('@')\n",
    "    if 'vs.' in b:\n",
    "        (b1, b2) = b.split('vs.')\n",
    "    b2 = b2.strip()\n",
    "    return(b2)\n",
    "def shooters_team(x):\n",
    "    if x == 'A':\n",
    "        return df['away_team']\n",
    "    else:\n",
    "        return df['home_team']\n"
   ]
  },
  {
   "cell_type": "code",
   "execution_count": null,
   "metadata": {},
   "outputs": [],
   "source": [
    "df['date']=df['MATCHUP'].apply(data_split)\n",
    "df['home_team']=df['MATCHUP'].apply(home_team_split)\n",
    "df['away_team']=df['MATCHUP'].apply(away_team_split)\n",
    "df['players_team']=df['LOCATION'].apply(shooters_team)\n",
    "# del df['SHOT_RESULT']\n",
    "# del df['W']\n",
    "# del df['MATCHUP']"
   ]
  },
  {
   "cell_type": "code",
   "execution_count": null,
   "metadata": {},
   "outputs": [],
   "source": [
    "df[:10]"
   ]
  },
  {
   "cell_type": "code",
   "execution_count": null,
   "metadata": {},
   "outputs": [],
   "source": [
    "df['players_team']=df['LOCATION'].apply(shooters_team)"
   ]
  },
  {
   "cell_type": "code",
   "execution_count": null,
   "metadata": {
    "collapsed": true
   },
   "outputs": [],
   "source": []
  }
 ],
 "metadata": {
  "kernelspec": {
   "display_name": "Python 2",
   "language": "python",
   "name": "python2"
  },
  "language_info": {
   "codemirror_mode": {
    "name": "ipython",
    "version": 2
   },
   "file_extension": ".py",
   "mimetype": "text/x-python",
   "name": "python",
   "nbconvert_exporter": "python",
   "pygments_lexer": "ipython2",
   "version": "2.7.13"
  }
 },
 "nbformat": 4,
 "nbformat_minor": 2
}
