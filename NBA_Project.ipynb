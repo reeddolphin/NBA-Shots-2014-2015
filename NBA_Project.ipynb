{
 "cells": [
  {
   "cell_type": "code",
   "execution_count": 4,
   "metadata": {},
   "outputs": [
    {
     "name": "stdout",
     "output_type": "stream",
     "text": [
      "Populating the interactive namespace from numpy and matplotlib\n"
     ]
    },
    {
     "name": "stderr",
     "output_type": "stream",
     "text": [
      "C:\\Users\\Jushira Thelakkat\\Anaconda2\\lib\\site-packages\\statsmodels\\compat\\pandas.py:56: FutureWarning: The pandas.core.datetools module is deprecated and will be removed in a future version. Please use the pandas.tseries module instead.\n",
      "  from pandas.core import datetools\n"
     ]
    }
   ],
   "source": [
    "import os\n",
    "\n",
    "import numpy as np\n",
    "from pandas import Series,DataFrame\n",
    "import pandas as pd\n",
    "%pylab inline\n",
    "# pd.set_option('display.max_rows', 10)\n",
    "# pd.set_option('display.notebook_repr_html', True)\n",
    "# pd.set_option('display.max_columns', 20)\n",
    "\n",
    "import seaborn as sns\n",
    "import colorsys\n",
    "import statsmodels.api as sm\n",
    "import statsmodels.formula.api as smf\n",
    "\n",
    "from sklearn import linear_model\n",
    "import matplotlib\n",
    "import matplotlib.pyplot as plt\n",
    "%matplotlib inline\n",
    "plt.style.use('ggplot')"
   ]
  },
  {
   "cell_type": "markdown",
   "metadata": {},
   "source": [
    "### Read in data"
   ]
  },
  {
   "cell_type": "code",
   "execution_count": 5,
   "metadata": {
    "collapsed": true
   },
   "outputs": [],
   "source": [
    "df = pd.read_csv('shot_logs.csv')\n",
    "playerstats = pd.read_csv('players_stats.csv')"
   ]
  },
  {
   "cell_type": "markdown",
   "metadata": {},
   "source": [
    "### Initial Data Cleaning - Remove NaN!"
   ]
  },
  {
   "cell_type": "code",
   "execution_count": null,
   "metadata": {
    "collapsed": true
   },
   "outputs": [],
   "source": [
    "print df.shape\n",
    "print playerstats.shape"
   ]
  },
  {
   "cell_type": "code",
   "execution_count": null,
   "metadata": {
    "collapsed": true
   },
   "outputs": [],
   "source": [
    "df.dropna(inplace = True) #Drop NaN"
   ]
  },
  {
   "cell_type": "code",
   "execution_count": null,
   "metadata": {
    "collapsed": true
   },
   "outputs": [],
   "source": [
    "df.shape"
   ]
  },
  {
   "cell_type": "code",
   "execution_count": null,
   "metadata": {
    "collapsed": true
   },
   "outputs": [],
   "source": [
    "playerstats.dropna(inplace = True)"
   ]
  },
  {
   "cell_type": "code",
   "execution_count": null,
   "metadata": {
    "collapsed": true
   },
   "outputs": [],
   "source": [
    "playerstats.shape"
   ]
  },
  {
   "cell_type": "code",
   "execution_count": null,
   "metadata": {
    "collapsed": true,
    "scrolled": true
   },
   "outputs": [],
   "source": [
    "print 'Number of observations dropped in shotlogs',128069-122502\n",
    "print 'Dataset has 122502 rows and 21 columns out of which we drop 5567 rows because of NaN values!'"
   ]
  },
  {
   "cell_type": "markdown",
   "metadata": {},
   "source": [
    "### Split data into 2 points and 3 points"
   ]
  },
  {
   "cell_type": "code",
   "execution_count": null,
   "metadata": {
    "collapsed": true
   },
   "outputs": [],
   "source": [
    "df.PTS_TYPE.value_counts()"
   ]
  },
  {
   "cell_type": "code",
   "execution_count": null,
   "metadata": {
    "collapsed": true
   },
   "outputs": [],
   "source": [
    "two_df= df[df['PTS_TYPE']==2]\n",
    "three_df= df[df['PTS_TYPE']==3]\n",
    "print 'The percentage of shots that are 2 points:', (float(two_df.shape[0])/(two_df.shape[0]+three_df.shape[0]))*100, '%'\n",
    "print 'The percentage of shots that are 3 points:', (float(three_df.shape[0])/(three_df.shape[0]+two_df.shape[0]))*100, '%'\n",
    "print 'Dimensions of 2-pts dataset:', two_df.shape\n",
    "print 'Dimensions of 3-pts dataset:', three_df.shape"
   ]
  },
  {
   "cell_type": "markdown",
   "metadata": {
    "collapsed": true
   },
   "source": [
    "### Splitting 2 points dataset into training and test data!"
   ]
  },
  {
   "cell_type": "code",
   "execution_count": null,
   "metadata": {
    "collapsed": true
   },
   "outputs": [],
   "source": [
    "train_2_df = two_df.sample(frac = .6, random_state = 0)\n",
    "test_2_df = two_df.drop(train_2_df.index)"
   ]
  },
  {
   "cell_type": "code",
   "execution_count": null,
   "metadata": {
    "collapsed": true
   },
   "outputs": [],
   "source": [
    "print 'Dimensions of 2-pts training set:' , train_2_df.shape  # 0.6 of the 2 pts dataset!\n",
    "print 'Dimensions of 2-pts test set:' , test_2_df.shape"
   ]
  },
  {
   "cell_type": "markdown",
   "metadata": {},
   "source": [
    "### Data Exploration of dataset"
   ]
  },
  {
   "cell_type": "markdown",
   "metadata": {},
   "source": [
    "To build our model, we will use only our 2-pts training dataset from now on."
   ]
  },
  {
   "cell_type": "code",
   "execution_count": null,
   "metadata": {
    "collapsed": true
   },
   "outputs": [],
   "source": [
    "train_2_df.describe()"
   ]
  },
  {
   "cell_type": "code",
   "execution_count": null,
   "metadata": {
    "collapsed": true
   },
   "outputs": [],
   "source": [
    "train_2_df.FGM.value_counts()"
   ]
  },
  {
   "cell_type": "code",
   "execution_count": null,
   "metadata": {
    "collapsed": true
   },
   "outputs": [],
   "source": [
    "train_2_df.FGM.value_counts()[1]/float(train_2_df.shape[0])"
   ]
  },
  {
   "cell_type": "markdown",
   "metadata": {},
   "source": [
    "The overall field goal percentage is roughly 49% in the 2-point training set. "
   ]
  },
  {
   "cell_type": "code",
   "execution_count": null,
   "metadata": {
    "collapsed": true
   },
   "outputs": [],
   "source": [
    "color = train_2_df.FGM.map(pd.Series({0: 'red', 1: 'green'}))\n",
    "color"
   ]
  },
  {
   "cell_type": "code",
   "execution_count": null,
   "metadata": {
    "collapsed": true
   },
   "outputs": [],
   "source": [
    "GameID_count = pd.value_counts(train_2_df.GAME_ID).to_frame().reset_index()\n",
    "GameID_count.columns = ['ID', 'count']\n",
    "GameID_count['ID'].count()"
   ]
  },
  {
   "cell_type": "markdown",
   "metadata": {},
   "source": [
    "The trainingset contains 896 games."
   ]
  },
  {
   "cell_type": "code",
   "execution_count": null,
   "metadata": {
    "collapsed": true
   },
   "outputs": [],
   "source": [
    "GameID_count1 = pd.value_counts(test_2_df.GAME_ID).to_frame().reset_index()\n",
    "GameID_count1.columns = ['ID', 'count']\n",
    "GameID_count1['ID'].count()"
   ]
  },
  {
   "cell_type": "markdown",
   "metadata": {},
   "source": [
    "GAMES/SHOTS DISTRIBUTION BY MONTH"
   ]
  },
  {
   "cell_type": "code",
   "execution_count": 34,
   "metadata": {
    "collapsed": true
   },
   "outputs": [],
   "source": [
    "#Variable transformation\n",
    "def mu_transform(mu):\n",
    "    mu = mu.split(\",\")\n",
    "    mu=mu[0]\n",
    "    mu = mu.split(' ')\n",
    "    mu_t=mu[0]\n",
    "    return mu_t"
   ]
  },
  {
   "cell_type": "code",
   "execution_count": 35,
   "metadata": {
    "scrolled": true
   },
   "outputs": [
    {
     "data": {
      "image/png": "[encoded data removed]",
      "text/plain": [
       "<matplotlib.figure.Figure at 0x1343e668>"
      ]
     },
     "metadata": {},
     "output_type": "display_data"
    }
   ],
   "source": [
    "df['Month']= df.MATCHUP.apply(mu_transform)\n",
    "# g = pd.value_counts(df['Month']).to_frame().reset_index()\n",
    "# g.columns = ['Month', 'count']\n",
    "# g = pd.value_counts(df['Month']).to_frame().reset_index()\n",
    "# g.columns = ['Month_', 'count']\n",
    "\n",
    "games_month=df.groupby('Month')['GAME_ID'].nunique().to_frame().reset_index()\n",
    "games_month.columns = ['Month', 'Number of games']\n",
    "# plot(games_month,kind='bar')\n",
    "# g.columns = ['Month_', 'count']\n",
    "\n",
    "def graph(graph_title):\n",
    "\n",
    "    sns.set_style(\"whitegrid\")\n",
    "    ax = sns.barplot(y = 'Number of games', x = 'Month', data=games_month)\n",
    "    ax.set(xlabel = '', ylabel = '', title = graph_title)\n",
    "    ax.get_yaxis().set_major_formatter(\n",
    "    matplotlib.ticker.FuncFormatter(lambda x, p: format(int(x), ',')))\n",
    "    _ = ax.set_xticklabels(ax.get_xticklabels(), rotation=0)\n",
    "    \n",
    "graph('Games per Month')\n",
    "\n"
   ]
  },
  {
   "cell_type": "markdown",
   "metadata": {},
   "source": [
    "- October has less number of games. Expected since the season starts at the end of the month.\n",
    "- November, December and January have the highest games.\n",
    "- February sees a drop in games because there is a weeklong break.\n",
    "- Least games played in March and October as they are the beginning and end months of the season."
   ]
  },
  {
   "cell_type": "code",
   "execution_count": 36,
   "metadata": {},
   "outputs": [
    {
     "data": {
      "image/png": "[encoded data removed]",
      "text/plain": [
       "<matplotlib.figure.Figure at 0xdb42be0>"
      ]
     },
     "metadata": {},
     "output_type": "display_data"
    }
   ],
   "source": [
    "df['Month']= df.MATCHUP.apply(mu_transform)\n",
    "g = pd.value_counts(df['Month']).to_frame().reset_index()\n",
    "g.columns = ['Month', 'count']\n",
    "g = pd.value_counts(df['Month']).to_frame().reset_index()\n",
    "g.columns = ['Month_', 'count']\n",
    "\n",
    "def graph(graph_title):\n",
    "\n",
    "    sns.set_style(\"whitegrid\")\n",
    "    ax = sns.barplot(y = 'count', x = 'Month_', data=g)\n",
    "    ax.set(xlabel = '', ylabel = '', title = graph_title)\n",
    "    ax.get_yaxis().set_major_formatter(\n",
    "    matplotlib.ticker.FuncFormatter(lambda x, p: format(int(x), ',')))\n",
    "    _ = ax.set_xticklabels(ax.get_xticklabels(), rotation=0)\n",
    "    \n",
    "graph('Shots Distribution by Months')\n"
   ]
  },
  {
   "cell_type": "markdown",
   "metadata": {},
   "source": [
    "- October has less shots. Expected since the season starts at the end of the month.\n",
    "- November, December and January have the highest shots.\n",
    "- February sees a drop in shots because there is a weeklong break.\n",
    "- Least in March and October as they are the beginning and end months of the season."
   ]
  },
  {
   "cell_type": "code",
   "execution_count": 39,
   "metadata": {},
   "outputs": [
    {
     "data": {
      "text/plain": [
       "<matplotlib.axes._subplots.AxesSubplot at 0x11ec1208>"
      ]
     },
     "execution_count": 39,
     "metadata": {},
     "output_type": "execute_result"
    },
    {
     "data": {
      "image/png": "[encoded data removed]",
      "text/plain": [
       "<matplotlib.figure.Figure at 0x134b6f98>"
      ]
     },
     "metadata": {},
     "output_type": "display_data"
    }
   ],
   "source": [
    "df.groupby('Month')['FGM'].mean().plot()"
   ]
  },
  {
   "cell_type": "markdown",
   "metadata": {},
   "source": [
    " This graph represents Field goal percentage by months. FG% is highest in November and December while lowest in March.\n",
    " This probably shows that as the season progresses, #Incomplete"
   ]
  },
  {
   "cell_type": "markdown",
   "metadata": {},
   "source": [
    "SHOT DISTRIBUTION BY LOCATION"
   ]
  },
  {
   "cell_type": "code",
   "execution_count": 42,
   "metadata": {},
   "outputs": [
    {
     "data": {
      "text/plain": [
       "A    64135\n",
       "H    63934\n",
       "Name: LOCATION, dtype: int64"
      ]
     },
     "execution_count": 42,
     "metadata": {},
     "output_type": "execute_result"
    }
   ],
   "source": [
    "#transforming location variable\n",
    "df['location_t'] = 0\n",
    "df.at[df['LOCATION'] == 'A','location_t'] = 1\n",
    "\n",
    "df['LOCATION'].value_counts()"
   ]
  },
  {
   "cell_type": "code",
   "execution_count": 43,
   "metadata": {},
   "outputs": [
    {
     "data": {
      "text/plain": [
       "<matplotlib.legend.Legend at 0x119fa9e8>"
      ]
     },
     "execution_count": 43,
     "metadata": {},
     "output_type": "execute_result"
    },
    {
     "data": {
      "image/png": "[encoded data removed]",
      "text/plain": [
       "<matplotlib.figure.Figure at 0x12154a58>"
      ]
     },
     "metadata": {},
     "output_type": "display_data"
    }
   ],
   "source": [
    "df_graph = pd.crosstab(df.location_t,df.FGM).apply(lambda r: r/r.sum(), axis=1)\n",
    "N = len(df.location_t.value_counts().index)\n",
    "HSV_tuples = [(x*1.0/N, 0.5, 0.5) for x in range(N)]\n",
    "RGB_tuples = list(map(lambda x: colorsys.hsv_to_rgb(*x), HSV_tuples))\n",
    "ax1 = df_graph.plot(kind=\"bar\", stacked=True, color=RGB_tuples, title=\"Location\")\n",
    "lines, labels = ax1.get_legend_handles_labels()\n",
    "ax1.legend(lines,[\"Missed\", \"Made\"], loc='best')"
   ]
  },
  {
   "cell_type": "code",
   "execution_count": null,
   "metadata": {
    "collapsed": true
   },
   "outputs": [],
   "source": []
  }
 ],
 "metadata": {
  "kernelspec": {
   "display_name": "Python 2",
   "language": "python",
   "name": "python2"
  },
  "language_info": {
   "codemirror_mode": {
    "name": "ipython",
    "version": 2
   },
   "file_extension": ".py",
   "mimetype": "text/x-python",
   "name": "python",
   "nbconvert_exporter": "python",
   "pygments_lexer": "ipython2",
   "version": "2.7.13"
  }
 },
 "nbformat": 4,
 "nbformat_minor": 2
}
