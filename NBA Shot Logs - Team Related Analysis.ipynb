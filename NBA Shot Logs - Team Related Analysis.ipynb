{
 "cells": [
  {
   "cell_type": "markdown",
   "metadata": {},
   "source": [
    "# Data Preparation"
   ]
  },
  {
   "cell_type": "code",
   "execution_count": 132,
   "metadata": {},
   "outputs": [
    {
     "name": "stdout",
     "output_type": "stream",
     "text": [
      "Populating the interactive namespace from numpy and matplotlib\n"
     ]
    }
   ],
   "source": [
    "from pandas import Series, DataFrame\n",
    "import pandas as pd\n",
    "import datetime as dt\n",
    "import statsmodels.api as sm\n",
    "from patsy import dmatrices\n",
    "import seaborn as sns\n",
    "import matplotlib.pyplot as plt\n",
    "from wordcloud import WordCloud\n",
    "%pylab inline"
   ]
  },
  {
   "cell_type": "code",
   "execution_count": 173,
   "metadata": {},
   "outputs": [
    {
     "data": {
      "text/plain": [
       "128069"
      ]
     },
     "execution_count": 173,
     "metadata": {},
     "output_type": "execute_result"
    }
   ],
   "source": [
    "df = pd.read_csv('shot_logs.csv')\n",
    "len(df)"
   ]
  },
  {
   "cell_type": "markdown",
   "metadata": {},
   "source": [
    "# Home Advantage Analysis"
   ]
  },
  {
   "cell_type": "markdown",
   "metadata": {},
   "source": [
    "Home and Away team split"
   ]
  },
  {
   "cell_type": "code",
   "execution_count": 174,
   "metadata": {},
   "outputs": [
    {
     "data": {
      "text/html": [
       "<div>\n",
       "<style>\n",
       "    .dataframe thead tr:only-child th {\n",
       "        text-align: right;\n",
       "    }\n",
       "\n",
       "    .dataframe thead th {\n",
       "        text-align: left;\n",
       "    }\n",
       "\n",
       "    .dataframe tbody tr th {\n",
       "        vertical-align: top;\n",
       "    }\n",
       "</style>\n",
       "<table border=\"1\" class=\"dataframe\">\n",
       "  <thead>\n",
       "    <tr style=\"text-align: right;\">\n",
       "      <th></th>\n",
       "      <th>GAME_ID</th>\n",
       "      <th>MATCHUP</th>\n",
       "      <th>LOCATION</th>\n",
       "      <th>W</th>\n",
       "      <th>FINAL_MARGIN</th>\n",
       "      <th>SHOT_NUMBER</th>\n",
       "      <th>PERIOD</th>\n",
       "      <th>GAME_CLOCK</th>\n",
       "      <th>SHOT_CLOCK</th>\n",
       "      <th>DRIBBLES</th>\n",
       "      <th>...</th>\n",
       "      <th>FGM</th>\n",
       "      <th>PTS</th>\n",
       "      <th>player_name</th>\n",
       "      <th>player_id</th>\n",
       "      <th>date</th>\n",
       "      <th>home_team</th>\n",
       "      <th>away_team</th>\n",
       "      <th>players_team</th>\n",
       "      <th>defenders_team</th>\n",
       "      <th>winners_team</th>\n",
       "    </tr>\n",
       "  </thead>\n",
       "  <tbody>\n",
       "    <tr>\n",
       "      <th>0</th>\n",
       "      <td>21400899</td>\n",
       "      <td>MAR 04, 2015 - CHA @ BKN</td>\n",
       "      <td>A</td>\n",
       "      <td>W</td>\n",
       "      <td>24</td>\n",
       "      <td>1</td>\n",
       "      <td>1</td>\n",
       "      <td>1:09</td>\n",
       "      <td>10.8</td>\n",
       "      <td>2</td>\n",
       "      <td>...</td>\n",
       "      <td>1</td>\n",
       "      <td>2</td>\n",
       "      <td>brian roberts</td>\n",
       "      <td>203148</td>\n",
       "      <td>MAR 04, 2015</td>\n",
       "      <td>BKN</td>\n",
       "      <td>CHA</td>\n",
       "      <td>CHA</td>\n",
       "      <td>BKN</td>\n",
       "      <td>CHA</td>\n",
       "    </tr>\n",
       "    <tr>\n",
       "      <th>1</th>\n",
       "      <td>21400899</td>\n",
       "      <td>MAR 04, 2015 - CHA @ BKN</td>\n",
       "      <td>A</td>\n",
       "      <td>W</td>\n",
       "      <td>24</td>\n",
       "      <td>2</td>\n",
       "      <td>1</td>\n",
       "      <td>0:14</td>\n",
       "      <td>3.4</td>\n",
       "      <td>0</td>\n",
       "      <td>...</td>\n",
       "      <td>0</td>\n",
       "      <td>0</td>\n",
       "      <td>brian roberts</td>\n",
       "      <td>203148</td>\n",
       "      <td>MAR 04, 2015</td>\n",
       "      <td>BKN</td>\n",
       "      <td>CHA</td>\n",
       "      <td>CHA</td>\n",
       "      <td>BKN</td>\n",
       "      <td>CHA</td>\n",
       "    </tr>\n",
       "    <tr>\n",
       "      <th>2</th>\n",
       "      <td>21400899</td>\n",
       "      <td>MAR 04, 2015 - CHA @ BKN</td>\n",
       "      <td>A</td>\n",
       "      <td>W</td>\n",
       "      <td>24</td>\n",
       "      <td>3</td>\n",
       "      <td>1</td>\n",
       "      <td>0:00</td>\n",
       "      <td>NaN</td>\n",
       "      <td>3</td>\n",
       "      <td>...</td>\n",
       "      <td>0</td>\n",
       "      <td>0</td>\n",
       "      <td>brian roberts</td>\n",
       "      <td>203148</td>\n",
       "      <td>MAR 04, 2015</td>\n",
       "      <td>BKN</td>\n",
       "      <td>CHA</td>\n",
       "      <td>CHA</td>\n",
       "      <td>BKN</td>\n",
       "      <td>CHA</td>\n",
       "    </tr>\n",
       "    <tr>\n",
       "      <th>3</th>\n",
       "      <td>21400899</td>\n",
       "      <td>MAR 04, 2015 - CHA @ BKN</td>\n",
       "      <td>A</td>\n",
       "      <td>W</td>\n",
       "      <td>24</td>\n",
       "      <td>4</td>\n",
       "      <td>2</td>\n",
       "      <td>11:47</td>\n",
       "      <td>10.3</td>\n",
       "      <td>2</td>\n",
       "      <td>...</td>\n",
       "      <td>0</td>\n",
       "      <td>0</td>\n",
       "      <td>brian roberts</td>\n",
       "      <td>203148</td>\n",
       "      <td>MAR 04, 2015</td>\n",
       "      <td>BKN</td>\n",
       "      <td>CHA</td>\n",
       "      <td>CHA</td>\n",
       "      <td>BKN</td>\n",
       "      <td>CHA</td>\n",
       "    </tr>\n",
       "    <tr>\n",
       "      <th>4</th>\n",
       "      <td>21400899</td>\n",
       "      <td>MAR 04, 2015 - CHA @ BKN</td>\n",
       "      <td>A</td>\n",
       "      <td>W</td>\n",
       "      <td>24</td>\n",
       "      <td>5</td>\n",
       "      <td>2</td>\n",
       "      <td>10:34</td>\n",
       "      <td>10.9</td>\n",
       "      <td>2</td>\n",
       "      <td>...</td>\n",
       "      <td>0</td>\n",
       "      <td>0</td>\n",
       "      <td>brian roberts</td>\n",
       "      <td>203148</td>\n",
       "      <td>MAR 04, 2015</td>\n",
       "      <td>BKN</td>\n",
       "      <td>CHA</td>\n",
       "      <td>CHA</td>\n",
       "      <td>BKN</td>\n",
       "      <td>CHA</td>\n",
       "    </tr>\n",
       "  </tbody>\n",
       "</table>\n",
       "<p>5 rows × 27 columns</p>\n",
       "</div>"
      ],
      "text/plain": [
       "    GAME_ID                   MATCHUP LOCATION  W  FINAL_MARGIN  SHOT_NUMBER  \\\n",
       "0  21400899  MAR 04, 2015 - CHA @ BKN        A  W            24            1   \n",
       "1  21400899  MAR 04, 2015 - CHA @ BKN        A  W            24            2   \n",
       "2  21400899  MAR 04, 2015 - CHA @ BKN        A  W            24            3   \n",
       "3  21400899  MAR 04, 2015 - CHA @ BKN        A  W            24            4   \n",
       "4  21400899  MAR 04, 2015 - CHA @ BKN        A  W            24            5   \n",
       "\n",
       "   PERIOD GAME_CLOCK  SHOT_CLOCK  DRIBBLES     ...       FGM  PTS  \\\n",
       "0       1       1:09        10.8         2     ...         1    2   \n",
       "1       1       0:14         3.4         0     ...         0    0   \n",
       "2       1       0:00         NaN         3     ...         0    0   \n",
       "3       2      11:47        10.3         2     ...         0    0   \n",
       "4       2      10:34        10.9         2     ...         0    0   \n",
       "\n",
       "     player_name player_id          date  home_team  away_team  players_team  \\\n",
       "0  brian roberts    203148  MAR 04, 2015        BKN        CHA           CHA   \n",
       "1  brian roberts    203148  MAR 04, 2015        BKN        CHA           CHA   \n",
       "2  brian roberts    203148  MAR 04, 2015        BKN        CHA           CHA   \n",
       "3  brian roberts    203148  MAR 04, 2015        BKN        CHA           CHA   \n",
       "4  brian roberts    203148  MAR 04, 2015        BKN        CHA           CHA   \n",
       "\n",
       "   defenders_team winners_team  \n",
       "0             BKN          CHA  \n",
       "1             BKN          CHA  \n",
       "2             BKN          CHA  \n",
       "3             BKN          CHA  \n",
       "4             BKN          CHA  \n",
       "\n",
       "[5 rows x 27 columns]"
      ]
     },
     "execution_count": 174,
     "metadata": {},
     "output_type": "execute_result"
    }
   ],
   "source": [
    "def data_split(x):\n",
    "    (a,b)=x.split('-')\n",
    "    a=a.strip()\n",
    "    return a\n",
    "\n",
    "def home_team_split(x):\n",
    "    (a,b) = x.split('-')\n",
    "    if '@' in b:\n",
    "        (b1, b2) = b.split('@')\n",
    "    if 'vs.' in b:\n",
    "        (b2, b1) = b.split('vs.')\n",
    "    b2 = b2.strip()\n",
    "    return(b2)\n",
    "\n",
    "def away_team_split(x):\n",
    "    (a,b) = x.split('-')\n",
    "    if '@' in b:\n",
    "        (b2, b1) = b.split('@')\n",
    "    if 'vs.' in b:\n",
    "        (b1, b2) = b.split('vs.')\n",
    "    b2 = b2.strip()\n",
    "    return(b2)\n",
    "\n",
    "def shooters_team(x):\n",
    "    (a,b) = x.split('-')\n",
    "    if '@' in b:\n",
    "        (b1, b2) = b.split('@')\n",
    "    if 'vs.' in b:\n",
    "        (b1, b2) = b.split('vs.')\n",
    "    b1 = b1.strip()\n",
    "    return(b1)\n",
    "\n",
    "def defenders_team(x):\n",
    "    (a,b) = x.split('-')\n",
    "    if '@' in b:\n",
    "        (b1, b2) = b.split('@')\n",
    "    if 'vs.' in b:\n",
    "        (b1, b2) = b.split('vs.')\n",
    "    b2 = b2.strip()\n",
    "    return(b2)\n",
    "\n",
    "def winners_team(x):\n",
    "    if x['W']=='W':\n",
    "        if x['players_team']==x['home_team']:\n",
    "            return x['home_team']\n",
    "        elif x['players_team']==x['away_team']:\n",
    "            return x['away_team']\n",
    "    else:\n",
    "        if x['players_team']==x['home_team']:\n",
    "            return x['away_team']\n",
    "        elif x['players_team']==x['away_team']:\n",
    "            return x['home_team']\n",
    "\n",
    "df['date']=df['MATCHUP'].apply(data_split)\n",
    "df['home_team']=df['MATCHUP'].apply(home_team_split)\n",
    "df['away_team']=df['MATCHUP'].apply(away_team_split)\n",
    "df['players_team']=df['MATCHUP'].apply(shooters_team)\n",
    "df['defenders_team']=df['MATCHUP'].apply(defenders_team)\n",
    "df['winners_team'] = df.apply(winners_team,axis=1)\n",
    "\n",
    "df[:5]"
   ]
  },
  {
   "cell_type": "markdown",
   "metadata": {},
   "source": [
    "**Plot 1**: Proportion of total games split by Location win factor\n",
    "\n",
    "Inference:\n",
    "\n",
    "~56% of the games were won by Home teams. This gives us an initial direction to check for 'Home Team Advantage'."
   ]
  },
  {
   "cell_type": "code",
   "execution_count": 175,
   "metadata": {},
   "outputs": [
    {
     "name": "stdout",
     "output_type": "stream",
     "text": [
      "Percentage of Away wins:  44.03 %\n",
      "Percentage of Home wins:  55.97 %\n"
     ]
    },
    {
     "data": {
      "image/png": "[encoded data removed]",
      "text/plain": [
       "<matplotlib.figure.Figure at 0x271e6518>"
      ]
     },
     "metadata": {},
     "output_type": "display_data"
    }
   ],
   "source": [
    "a = df[(df['SHOT_RESULT']=='made') & (df['W']=='W')].groupby('LOCATION')['GAME_ID'].nunique()\n",
    "figure(figsize=(6,6))\n",
    "plot_a = a.plot.bar(grid=False,rot=0)\n",
    "plot_a.set_xlabel('Location')\n",
    "plot_a.set_ylabel('Number of wins')\n",
    "print 'Percentage of Away wins: ', round(float(a[0]*100)/(a[0]+a[1]),2),'%'\n",
    "print 'Percentage of Home wins: ', round(float(a[1]*100)/(a[0]+a[1]),2),'%'"
   ]
  },
  {
   "cell_type": "markdown",
   "metadata": {},
   "source": [
    "**Home - Away wins per team**\n",
    "\n",
    "26 teams' have won more games at home than away, \n",
    "3 teams' have won more games away than at home, and \n",
    "1 team's home and away win ratios are almost equal"
   ]
  },
  {
   "cell_type": "markdown",
   "metadata": {},
   "source": [
    "The analysis below shows that there is a clear evidence that a team playing at home is more likely to win with an average\n",
    "win probability of 55.97%. The same conclusion is evident from the analysis conducted on a team level where 26\n",
    "teams are winning more games at home than away. The results show that the NULL hypothesis should be rejected as\n",
    "a team playing at home is more likely to win than an away team. "
   ]
  },
  {
   "cell_type": "code",
   "execution_count": 181,
   "metadata": {},
   "outputs": [
    {
     "data": {
      "text/plain": [
       "<matplotlib.text.Text at 0x1dbc0898>"
      ]
     },
     "execution_count": 181,
     "metadata": {},
     "output_type": "execute_result"
    },
    {
     "data": {
      "image/png": "[encoded data removed]",
      "text/plain": [
       "<matplotlib.figure.Figure at 0x26a9dc50>"
      ]
     },
     "metadata": {},
     "output_type": "display_data"
    },
    {
     "data": {
      "text/plain": [
       "<matplotlib.figure.Figure at 0x26a7c2b0>"
      ]
     },
     "metadata": {},
     "output_type": "display_data"
    }
   ],
   "source": [
    "b= df[df['W']=='W'].groupby(['winners_team','LOCATION'])['GAME_ID'].nunique()\n",
    "b = b.unstack('LOCATION')\n",
    "b['DIFF'] = b['H'] - b['A']\n",
    "b = b.sort_values(by='DIFF',ascending=False)\n",
    "b = b[['DIFF']]\n",
    "\n",
    "b=b.reset_index()\n",
    "b = b.set_index('winners_team')\n",
    "plot_homeadv = b.plot(kind='bar',grid=False)\n",
    "figure(figsize=(20,10))\n",
    "plot_homeadv.set_xlabel('Team')\n",
    "plot_homeadv.set_ylabel('Difference between home and away wins')"
   ]
  },
  {
   "cell_type": "markdown",
   "metadata": {},
   "source": [
    "Prepare for regression:"
   ]
  },
  {
   "cell_type": "code",
   "execution_count": 137,
   "metadata": {},
   "outputs": [],
   "source": [
    "def bool_location(x):\n",
    "    if x == \"H\":\n",
    "        return 1 \n",
    "    else:\n",
    "        return 0\n",
    "\n",
    "def bool_wins(x):\n",
    "    if x == \"W\":\n",
    "        return 1 \n",
    "    else:\n",
    "        return 0\n",
    "\n",
    "df['LOCATION_BOOL'] = df['LOCATION'].apply(bool_location)\n",
    "df['W_BOOL'] = df['W'].apply(bool_wins)"
   ]
  },
  {
   "cell_type": "markdown",
   "metadata": {},
   "source": [
    "Linear regression analysis shows that playing at home gives teams on average additional 2.26 margin points.\n",
    "\n",
    "The result of this research also confirms the recent trend of decline in home advantage over the years: probability of\n",
    "a home team winning has reduced from around 65% in 1975-1992 to average of 60.3% in 1993-2011 and to around\n",
    "58.5% for 2011-14. The analysis demonstrated that the home win ratio went down even further to 56.0% in 2014-\n",
    "2015 season. \n",
    "\n",
    "Based on the literature review this trend could be potentially explained by the following factors(Economist, 2015):\n",
    " 1. Improvement of travel conditions. This means that when playing away, teams are now more likely to stay at better hotels and fly chartered planes more often than in the past. These changes result in teams being less tired as a consequence of travel and being better physically prepared for the games.\n",
    "\n",
    " 2. Change in style of play in NBA. The game now is more open with less physical contact, which reduces number of fouls and potential impact of 'notorious home-team bias' by referees (Economist, 2015)."
   ]
  },
  {
   "cell_type": "code",
   "execution_count": 152,
   "metadata": {},
   "outputs": [
    {
     "name": "stdout",
     "output_type": "stream",
     "text": [
      "Text(0.5,0,u'T-statistic of predictor')\n"
     ]
    },
    {
     "data": {
      "image/png": "[encoded data removed]",
      "text/plain": [
       "<matplotlib.figure.Figure at 0x288de588>"
      ]
     },
     "metadata": {},
     "output_type": "display_data"
    }
   ],
   "source": [
    "# REGRESSION OF ALL VARIABLES AGAINST FINAL MARGIN\n",
    "\n",
    "\n",
    "model1 = sm.OLS(df['FINAL_MARGIN'], df['LOCATION_BOOL'])\n",
    "result1 = model1.fit()\n",
    "# print result1.summary()\n",
    "\n",
    "#Plotting for first regresion\n",
    "# scatter(x=df['LOCATION_BOOL'], y=df['FINAL_MARGIN'], label = 'Location vs Final Margin')\n",
    "\n",
    "# sns.lmplot(x=\"SHOT_NUMBER\", y=\"FINAL_MARGIN\", hue=\"LOCATION\", data=df);\n",
    "\n",
    "y,X = dmatrices('FINAL_MARGIN ~ LOCATION_BOOL + PERIOD + DRIBBLES + PTS_TYPE + CLOSE_DEF_DIST + SHOT_CLOCK', data=df, return_type='dataframe')\n",
    "model2 = sm.OLS(y,X)\n",
    "result2 = model2.fit()\n",
    "print result2.tvalues.plot.barh(grid=False).set_xlabel('T-statistic of predictor')"
   ]
  },
  {
   "cell_type": "markdown",
   "metadata": {},
   "source": [
    "# Effect of rest on teams' performance"
   ]
  },
  {
   "cell_type": "code",
   "execution_count": 139,
   "metadata": {},
   "outputs": [
    {
     "data": {
      "text/html": [
       "<div>\n",
       "<style>\n",
       "    .dataframe thead tr:only-child th {\n",
       "        text-align: right;\n",
       "    }\n",
       "\n",
       "    .dataframe thead th {\n",
       "        text-align: left;\n",
       "    }\n",
       "\n",
       "    .dataframe tbody tr th {\n",
       "        vertical-align: top;\n",
       "    }\n",
       "</style>\n",
       "<table border=\"1\" class=\"dataframe\">\n",
       "  <thead>\n",
       "    <tr style=\"text-align: right;\">\n",
       "      <th></th>\n",
       "      <th>GAME_ID</th>\n",
       "      <th>MATCHUP</th>\n",
       "      <th>LOCATION</th>\n",
       "      <th>W</th>\n",
       "      <th>FINAL_MARGIN</th>\n",
       "      <th>SHOT_NUMBER</th>\n",
       "      <th>PERIOD</th>\n",
       "      <th>GAME_CLOCK</th>\n",
       "      <th>SHOT_CLOCK</th>\n",
       "      <th>DRIBBLES</th>\n",
       "      <th>...</th>\n",
       "      <th>player_name</th>\n",
       "      <th>player_id</th>\n",
       "      <th>date</th>\n",
       "      <th>home_team</th>\n",
       "      <th>away_team</th>\n",
       "      <th>players_team</th>\n",
       "      <th>defenders_team</th>\n",
       "      <th>winners_team</th>\n",
       "      <th>LOCATION_BOOL</th>\n",
       "      <th>W_BOOL</th>\n",
       "    </tr>\n",
       "  </thead>\n",
       "  <tbody>\n",
       "    <tr>\n",
       "      <th>0</th>\n",
       "      <td>21400899</td>\n",
       "      <td>MAR 04, 2015 - CHA @ BKN</td>\n",
       "      <td>A</td>\n",
       "      <td>W</td>\n",
       "      <td>24</td>\n",
       "      <td>1</td>\n",
       "      <td>1</td>\n",
       "      <td>1:09</td>\n",
       "      <td>10.8</td>\n",
       "      <td>2</td>\n",
       "      <td>...</td>\n",
       "      <td>brian roberts</td>\n",
       "      <td>203148</td>\n",
       "      <td>2015-03-04</td>\n",
       "      <td>BKN</td>\n",
       "      <td>CHA</td>\n",
       "      <td>CHA</td>\n",
       "      <td>BKN</td>\n",
       "      <td>CHA</td>\n",
       "      <td>0</td>\n",
       "      <td>1</td>\n",
       "    </tr>\n",
       "    <tr>\n",
       "      <th>1</th>\n",
       "      <td>21400899</td>\n",
       "      <td>MAR 04, 2015 - CHA @ BKN</td>\n",
       "      <td>A</td>\n",
       "      <td>W</td>\n",
       "      <td>24</td>\n",
       "      <td>2</td>\n",
       "      <td>1</td>\n",
       "      <td>0:14</td>\n",
       "      <td>3.4</td>\n",
       "      <td>0</td>\n",
       "      <td>...</td>\n",
       "      <td>brian roberts</td>\n",
       "      <td>203148</td>\n",
       "      <td>2015-03-04</td>\n",
       "      <td>BKN</td>\n",
       "      <td>CHA</td>\n",
       "      <td>CHA</td>\n",
       "      <td>BKN</td>\n",
       "      <td>CHA</td>\n",
       "      <td>0</td>\n",
       "      <td>1</td>\n",
       "    </tr>\n",
       "    <tr>\n",
       "      <th>2</th>\n",
       "      <td>21400899</td>\n",
       "      <td>MAR 04, 2015 - CHA @ BKN</td>\n",
       "      <td>A</td>\n",
       "      <td>W</td>\n",
       "      <td>24</td>\n",
       "      <td>3</td>\n",
       "      <td>1</td>\n",
       "      <td>0:00</td>\n",
       "      <td>NaN</td>\n",
       "      <td>3</td>\n",
       "      <td>...</td>\n",
       "      <td>brian roberts</td>\n",
       "      <td>203148</td>\n",
       "      <td>2015-03-04</td>\n",
       "      <td>BKN</td>\n",
       "      <td>CHA</td>\n",
       "      <td>CHA</td>\n",
       "      <td>BKN</td>\n",
       "      <td>CHA</td>\n",
       "      <td>0</td>\n",
       "      <td>1</td>\n",
       "    </tr>\n",
       "    <tr>\n",
       "      <th>3</th>\n",
       "      <td>21400899</td>\n",
       "      <td>MAR 04, 2015 - CHA @ BKN</td>\n",
       "      <td>A</td>\n",
       "      <td>W</td>\n",
       "      <td>24</td>\n",
       "      <td>4</td>\n",
       "      <td>2</td>\n",
       "      <td>11:47</td>\n",
       "      <td>10.3</td>\n",
       "      <td>2</td>\n",
       "      <td>...</td>\n",
       "      <td>brian roberts</td>\n",
       "      <td>203148</td>\n",
       "      <td>2015-03-04</td>\n",
       "      <td>BKN</td>\n",
       "      <td>CHA</td>\n",
       "      <td>CHA</td>\n",
       "      <td>BKN</td>\n",
       "      <td>CHA</td>\n",
       "      <td>0</td>\n",
       "      <td>1</td>\n",
       "    </tr>\n",
       "    <tr>\n",
       "      <th>4</th>\n",
       "      <td>21400899</td>\n",
       "      <td>MAR 04, 2015 - CHA @ BKN</td>\n",
       "      <td>A</td>\n",
       "      <td>W</td>\n",
       "      <td>24</td>\n",
       "      <td>5</td>\n",
       "      <td>2</td>\n",
       "      <td>10:34</td>\n",
       "      <td>10.9</td>\n",
       "      <td>2</td>\n",
       "      <td>...</td>\n",
       "      <td>brian roberts</td>\n",
       "      <td>203148</td>\n",
       "      <td>2015-03-04</td>\n",
       "      <td>BKN</td>\n",
       "      <td>CHA</td>\n",
       "      <td>CHA</td>\n",
       "      <td>BKN</td>\n",
       "      <td>CHA</td>\n",
       "      <td>0</td>\n",
       "      <td>1</td>\n",
       "    </tr>\n",
       "  </tbody>\n",
       "</table>\n",
       "<p>5 rows × 29 columns</p>\n",
       "</div>"
      ],
      "text/plain": [
       "    GAME_ID                   MATCHUP LOCATION  W  FINAL_MARGIN  SHOT_NUMBER  \\\n",
       "0  21400899  MAR 04, 2015 - CHA @ BKN        A  W            24            1   \n",
       "1  21400899  MAR 04, 2015 - CHA @ BKN        A  W            24            2   \n",
       "2  21400899  MAR 04, 2015 - CHA @ BKN        A  W            24            3   \n",
       "3  21400899  MAR 04, 2015 - CHA @ BKN        A  W            24            4   \n",
       "4  21400899  MAR 04, 2015 - CHA @ BKN        A  W            24            5   \n",
       "\n",
       "   PERIOD GAME_CLOCK  SHOT_CLOCK  DRIBBLES  ...      player_name  player_id  \\\n",
       "0       1       1:09        10.8         2  ...    brian roberts     203148   \n",
       "1       1       0:14         3.4         0  ...    brian roberts     203148   \n",
       "2       1       0:00         NaN         3  ...    brian roberts     203148   \n",
       "3       2      11:47        10.3         2  ...    brian roberts     203148   \n",
       "4       2      10:34        10.9         2  ...    brian roberts     203148   \n",
       "\n",
       "        date home_team away_team  players_team  defenders_team  winners_team  \\\n",
       "0 2015-03-04       BKN       CHA           CHA             BKN           CHA   \n",
       "1 2015-03-04       BKN       CHA           CHA             BKN           CHA   \n",
       "2 2015-03-04       BKN       CHA           CHA             BKN           CHA   \n",
       "3 2015-03-04       BKN       CHA           CHA             BKN           CHA   \n",
       "4 2015-03-04       BKN       CHA           CHA             BKN           CHA   \n",
       "\n",
       "   LOCATION_BOOL W_BOOL  \n",
       "0              0      1  \n",
       "1              0      1  \n",
       "2              0      1  \n",
       "3              0      1  \n",
       "4              0      1  \n",
       "\n",
       "[5 rows x 29 columns]"
      ]
     },
     "execution_count": 139,
     "metadata": {},
     "output_type": "execute_result"
    }
   ],
   "source": [
    "#Making date column\n",
    "df['date'] = pd.to_datetime(df['date'])\n",
    "\n",
    "df[:5]\n"
   ]
  },
  {
   "cell_type": "code",
   "execution_count": 140,
   "metadata": {},
   "outputs": [
    {
     "data": {
      "text/html": [
       "<div>\n",
       "<style>\n",
       "    .dataframe thead tr:only-child th {\n",
       "        text-align: right;\n",
       "    }\n",
       "\n",
       "    .dataframe thead th {\n",
       "        text-align: left;\n",
       "    }\n",
       "\n",
       "    .dataframe tbody tr th {\n",
       "        vertical-align: top;\n",
       "    }\n",
       "</style>\n",
       "<table border=\"1\" class=\"dataframe\">\n",
       "  <thead>\n",
       "    <tr style=\"text-align: right;\">\n",
       "      <th></th>\n",
       "      <th>date</th>\n",
       "      <th>percentage of wins</th>\n",
       "    </tr>\n",
       "    <tr>\n",
       "      <th>diff</th>\n",
       "      <th></th>\n",
       "      <th></th>\n",
       "    </tr>\n",
       "  </thead>\n",
       "  <tbody>\n",
       "    <tr>\n",
       "      <th>1.0</th>\n",
       "      <td>103</td>\n",
       "      <td>11.393805</td>\n",
       "    </tr>\n",
       "    <tr>\n",
       "      <th>2.0</th>\n",
       "      <td>295</td>\n",
       "      <td>32.632743</td>\n",
       "    </tr>\n",
       "    <tr>\n",
       "      <th>3.0</th>\n",
       "      <td>146</td>\n",
       "      <td>16.150442</td>\n",
       "    </tr>\n",
       "    <tr>\n",
       "      <th>4.0</th>\n",
       "      <td>93</td>\n",
       "      <td>10.287611</td>\n",
       "    </tr>\n",
       "    <tr>\n",
       "      <th>5.0</th>\n",
       "      <td>54</td>\n",
       "      <td>5.973451</td>\n",
       "    </tr>\n",
       "  </tbody>\n",
       "</table>\n",
       "</div>"
      ],
      "text/plain": [
       "      date  percentage of wins\n",
       "diff                          \n",
       "1.0    103           11.393805\n",
       "2.0    295           32.632743\n",
       "3.0    146           16.150442\n",
       "4.0     93           10.287611\n",
       "5.0     54            5.973451"
      ]
     },
     "execution_count": 140,
     "metadata": {},
     "output_type": "execute_result"
    }
   ],
   "source": [
    "#Create new dataframe with required columns\n",
    "df_new = df[['GAME_ID','date','home_team','away_team','winners_team']].drop_duplicates()\n",
    "\n",
    "df_rest_team = df_new.groupby('winners_team')['date'].apply(lambda x: x.sort_values())\n",
    "df_rest_team = df_rest_team.to_frame()\n",
    "df_rest_team = df_rest_team.rename(columns={0:'date'})\n",
    "df_rest_team['diff'] = df_rest_team.groupby('winners_team')['date'].diff() / np.timedelta64(1, 'D')\n",
    "df_rest_team['diff'] = df_rest_team['diff'].fillna(0)\n",
    "diff_games = df_rest_team.groupby('diff')['date'].count()\n",
    "diff_games = diff_games.to_frame()\n",
    "pd.to_numeric(diff_games['date'])\n",
    "diff_games['percentage of wins'] = 100*diff_games['date']/904\n",
    "diff_games = diff_games.drop(diff_games.index[0])\n",
    "diff_games[:5]"
   ]
  },
  {
   "cell_type": "markdown",
   "metadata": {},
   "source": [
    "**Plot 1: Number of games vs Rest days** \n",
    "\n",
    "Most of the games are covered in the category where the rest days are 5 or less. Hence we shall deep dive into these games."
   ]
  },
  {
   "cell_type": "code",
   "execution_count": 153,
   "metadata": {},
   "outputs": [
    {
     "data": {
      "text/plain": [
       "<matplotlib.text.Text at 0x22b4c208>"
      ]
     },
     "execution_count": 153,
     "metadata": {},
     "output_type": "execute_result"
    },
    {
     "data": {
      "image/png": "[encoded data removed]",
      "text/plain": [
       "<matplotlib.figure.Figure at 0x27597c50>"
      ]
     },
     "metadata": {},
     "output_type": "display_data"
    }
   ],
   "source": [
    "#PIE CHART: may not make sense- BUT KEEP CODE FOR REFERENCE\n",
    "\n",
    "# import matplotlib.pyplot as plt\n",
    "# plt.pie(d1['percentage of wins'],labels = d1.index)\n",
    "# # View the plot drop above\n",
    "# plt.axis('equal')\n",
    "\n",
    "# # View the plot\n",
    "# plt.tight_layout()\n",
    "# plt.show()\n",
    "\n",
    "#Bar plot\n",
    "\n",
    "rest_plot = diff_games[:10].plot(y='date',kind='bar',grid=False)\n",
    "rest_plot.set_ylabel('Number of games won')\n",
    "rest_plot.set_xlabel('Number of rest days')"
   ]
  },
  {
   "cell_type": "markdown",
   "metadata": {},
   "source": [
    "Calculating number of home games won vs number of rest days taken"
   ]
  },
  {
   "cell_type": "code",
   "execution_count": 142,
   "metadata": {},
   "outputs": [],
   "source": [
    "mask_home_wins = df_new['winners_team'] == df_new['home_team']\n",
    "df_home_wins = df_new[mask_home_wins][['home_team','GAME_ID','date']].drop_duplicates()\n",
    "df_home_wins = df_home_wins.groupby('home_team')['date'].apply(lambda x: x.sort_values())\n",
    "df_home_wins = df_home_wins.to_frame()\n",
    "df_home_wins = df_home_wins.rename(columns={0:'date'})\n",
    "df_home_wins['diff'] = df_home_wins.groupby('home_team')['date'].diff() / np.timedelta64(1, 'D')\n",
    "df_home_wins['diff'] = df_home_wins['diff'].fillna(0)\n",
    "\n",
    "diff_homewins = df_home_wins.groupby('diff')['date'].count()\n",
    "diff_homewins = diff_homewins.to_frame()\n",
    "pd.to_numeric(diff_homewins['date'])\n",
    "diff_homewins['percentage of wins'] = (diff_homewins['date']*100)/(diff_homewins['date'].sum())\n",
    "diff_homewins = diff_homewins.drop(diff_homewins.index[0])\n",
    "# diff_homewins[:5]"
   ]
  },
  {
   "cell_type": "markdown",
   "metadata": {},
   "source": [
    "Calculating number of away games won vs number of rest days"
   ]
  },
  {
   "cell_type": "code",
   "execution_count": 145,
   "metadata": {},
   "outputs": [],
   "source": [
    "mask_away_wins = df_new['winners_team'] == df_new['away_team']\n",
    "df_away_wins = df_new[mask_away_wins][['away_team','GAME_ID','date']].drop_duplicates()\n",
    "df_away_wins = df_away_wins.groupby('away_team')['date'].apply(lambda x: x.sort_values())\n",
    "df_away_wins = df_away_wins.to_frame()\n",
    "df_away_wins = df_away_wins.rename(columns={0:'date'})\n",
    "df_away_wins['diff'] = df_away_wins.groupby('away_team')['date'].diff() / np.timedelta64(1, 'D')\n",
    "df_away_wins['diff'] = df_away_wins['diff'].fillna(0)\n",
    "\n",
    "diff_awaywins = df_away_wins.groupby('diff')['date'].count()\n",
    "diff_awaywins = diff_awaywins.to_frame()\n",
    "pd.to_numeric(diff_awaywins['date'])\n",
    "diff_awaywins['percentage of wins'] = (diff_awaywins['date']*100)/(diff_awaywins['date'].sum())\n",
    "diff_awaywins = diff_awaywins.drop(diff_awaywins.index[0])\n",
    "# diff_awaywins[:5]"
   ]
  },
  {
   "cell_type": "markdown",
   "metadata": {},
   "source": [
    "**Plot 2: ** Shows number of rest days vs number of games won for Home and Away teams\n",
    "\n",
    "Home teams' performance is better as they have more rest, but this is true upto 2 rest days. After this, rest starts to cost them.\n",
    "\n",
    "Away teams' performance sees very little change on varying number of rest days."
   ]
  },
  {
   "cell_type": "code",
   "execution_count": 154,
   "metadata": {},
   "outputs": [
    {
     "data": {
      "text/plain": [
       "<matplotlib.legend.Legend at 0x2869dc50>"
      ]
     },
     "execution_count": 154,
     "metadata": {},
     "output_type": "execute_result"
    },
    {
     "data": {
      "image/png": "[encoded data removed]",
      "text/plain": [
       "<matplotlib.figure.Figure at 0x2867f908>"
      ]
     },
     "metadata": {},
     "output_type": "display_data"
    }
   ],
   "source": [
    "diff_home_away = diff_homewins.merge(diff_awaywins, left_index=True, right_index = True)\n",
    "plot_homeaway = diff_home_away[['date_x','date_y']][:4].plot(kind='bar',grid=False)\n",
    "plot_homeaway.set_xlabel('Number of rest days')\n",
    "plot_homeaway.set_ylabel('Number of games won')\n",
    "plot_homeaway.legend([\"Home team\", \"Away team\"])"
   ]
  }
 ],
 "metadata": {
  "kernelspec": {
   "display_name": "Python 2",
   "language": "python",
   "name": "python2"
  },
  "language_info": {
   "codemirror_mode": {
    "name": "ipython",
    "version": 2
   },
   "file_extension": ".py",
   "mimetype": "text/x-python",
   "name": "python",
   "nbconvert_exporter": "python",
   "pygments_lexer": "ipython2",
   "version": "2.7.13"
  }
 },
 "nbformat": 4,
 "nbformat_minor": 2
}
